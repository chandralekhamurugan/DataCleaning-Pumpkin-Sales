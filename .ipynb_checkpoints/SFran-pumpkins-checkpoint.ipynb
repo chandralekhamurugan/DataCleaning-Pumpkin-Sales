{
 "cells": [
  {
   "cell_type": "markdown",
   "id": "3a62c41d",
   "metadata": {},
   "source": [
    "# Data Cleaning Studio\n",
    "\n",
    "You are part of a team working for an agricultural nonprofit based in California. Your nonprofit focuses on helping farmers in the state grow profitable crops in environmentally-friendly ways in an effort to reduce the impact of climate change on the state and provide enough food for the state's 39.5 million residents. With Halloween on the horizon, you and your team are looking to analyze past pumpkin crops to try and answer several questions:\n",
    "1. Are pumpkins sold at terminal markets in California (San Francisco and Los Angeles) grown in California?\n",
    "1. Is the harvest season for pumpkins grown in California consistent year-to-year?\n",
    "1. Are pumpkin farmers growing specific varieties of pumpkins for specific reasons?\n",
    "\n",
    "The answers to these questions will help your nonprofit decide if they should promote specific varieties or growing practices to the farmers they serve in time for seeds to be planted next year. Your team has already performed some exploratory analysis on the San Francisco terminal market report of pumpkin sales from 9/2016-9/2017. Now it is time to clean the data!\n",
    "\n",
    "Before diving in to cleaning the data, here is a quick guide to the different columns in the USDA report and what they mean:\n",
    "- Commodity Name: This CSV structure is used for lots of USDA reports. In this case, the commodity is pumpkins\n",
    "- City Name: City where the pumpkin was sold. The city is a terminal market location within the United States.\n",
    "- Type: This refers to the type of farming used in growing the pumpkins\n",
    "- Package: The way the pumpkins were packed for sale\n",
    "- Variety: Specific type of pumpkin, i.e. pie pumpkin or a Howden pumpkin\n",
    "- Sub Variety: Addition classifications about the pumpkins, i.e. is it a flat pumpkin?\n",
    "- Grade: In the US, usually only canned pumpkin is graded\n",
    "- Date: Date of sale (rounded up to the nearest Saturday)\n",
    "- Low Price: This price is in reference to sale price\n",
    "- High Price: This price is in reference to sale price\n",
    "- Mostly Low: This column is not measured for pumpkins\n",
    "- Mostly High: This column is not measured for pumpkins\n",
    "- Origin: Which state the pumpkins were grown in\n",
    "- Origin District: Additional information about pumpkins' origin location\n",
    "- Item Size: Abbreviations denoting size, i.e. jbo = jumbo, lrg = large\n",
    "- Color: Color of pumpkins\n",
    "- Environment: Additional information about pumpkins' growing environment\n",
    "- Unit of Sale: The unit the customer bought at market, i.e. if they bought pumpkins by the pound, the data should say \"PER LB\" or  if they bought pumpkins by the bin, it would say \"PER BIN\"\n",
    "- Quality: Additional notes about pumpkin quality as necessary\n",
    "- Condition: Additional notes about pumpkin condition as necessary\n",
    "- Appearance: Additional notes about pumpkin appearance as necessary\n",
    "- Storage: Additional notes about pumpkin storage as necessary\n",
    "- Crop: Additional notes about pumpkin crop as necessary\n",
    "- Repack: Whether the pumpkin has been repackaged before sale\n",
    "- Trans Mode: Mode of transportation used to get pumpkins to terminal market"
   ]
  },
  {
   "cell_type": "code",
   "execution_count": 89,
   "id": "f15f403d",
   "metadata": {},
   "outputs": [],
   "source": [
    "import pandas as pd\n",
    "import matplotlib \n",
    "import matplotlib.pyplot as plt\n",
    "import numpy as np\n",
    "import seaborn as sns\n",
    "\n",
    "data = pd.read_csv(\"san-fransisco_9-24-2016_9-30-2017.csv\")"
   ]
  },
  {
   "cell_type": "code",
   "execution_count": 90,
   "id": "c57d63be",
   "metadata": {},
   "outputs": [
    {
     "data": {
      "text/html": [
       "<div>\n",
       "<style scoped>\n",
       "    .dataframe tbody tr th:only-of-type {\n",
       "        vertical-align: middle;\n",
       "    }\n",
       "\n",
       "    .dataframe tbody tr th {\n",
       "        vertical-align: top;\n",
       "    }\n",
       "\n",
       "    .dataframe thead th {\n",
       "        text-align: right;\n",
       "    }\n",
       "</style>\n",
       "<table border=\"1\" class=\"dataframe\">\n",
       "  <thead>\n",
       "    <tr style=\"text-align: right;\">\n",
       "      <th></th>\n",
       "      <th>Commodity Name</th>\n",
       "      <th>City Name</th>\n",
       "      <th>Type</th>\n",
       "      <th>Package</th>\n",
       "      <th>Variety</th>\n",
       "      <th>Sub Variety</th>\n",
       "      <th>Grade</th>\n",
       "      <th>Date</th>\n",
       "      <th>Low Price</th>\n",
       "      <th>High Price</th>\n",
       "      <th>Mostly Low</th>\n",
       "      <th>Mostly High</th>\n",
       "      <th>Origin</th>\n",
       "      <th>Origin District</th>\n",
       "      <th>Item Size</th>\n",
       "      <th>Color</th>\n",
       "      <th>Environment</th>\n",
       "      <th>Unit of Sale</th>\n",
       "      <th>Quality</th>\n",
       "      <th>Condition</th>\n",
       "      <th>Appearance</th>\n",
       "      <th>Storage</th>\n",
       "      <th>Crop</th>\n",
       "      <th>Repack</th>\n",
       "      <th>Trans Mode</th>\n",
       "    </tr>\n",
       "  </thead>\n",
       "  <tbody>\n",
       "    <tr>\n",
       "      <th>0</th>\n",
       "      <td>PUMPKINS</td>\n",
       "      <td>SAN FRANCISCO</td>\n",
       "      <td>NaN</td>\n",
       "      <td>24 inch bins</td>\n",
       "      <td>HOWDEN TYPE</td>\n",
       "      <td>NaN</td>\n",
       "      <td>NaN</td>\n",
       "      <td>09/24/2016</td>\n",
       "      <td>155.0</td>\n",
       "      <td>155.0</td>\n",
       "      <td>155.0</td>\n",
       "      <td>155.0</td>\n",
       "      <td>CALIFORNIA</td>\n",
       "      <td>NaN</td>\n",
       "      <td>NaN</td>\n",
       "      <td>NaN</td>\n",
       "      <td>NaN</td>\n",
       "      <td>NaN</td>\n",
       "      <td>NaN</td>\n",
       "      <td>NaN</td>\n",
       "      <td>NaN</td>\n",
       "      <td>NaN</td>\n",
       "      <td>NaN</td>\n",
       "      <td>N</td>\n",
       "      <td>NaN</td>\n",
       "    </tr>\n",
       "    <tr>\n",
       "      <th>1</th>\n",
       "      <td>PUMPKINS</td>\n",
       "      <td>SAN FRANCISCO</td>\n",
       "      <td>NaN</td>\n",
       "      <td>24 inch bins</td>\n",
       "      <td>HOWDEN TYPE</td>\n",
       "      <td>NaN</td>\n",
       "      <td>NaN</td>\n",
       "      <td>10/01/2016</td>\n",
       "      <td>155.0</td>\n",
       "      <td>155.0</td>\n",
       "      <td>155.0</td>\n",
       "      <td>155.0</td>\n",
       "      <td>CALIFORNIA</td>\n",
       "      <td>NaN</td>\n",
       "      <td>NaN</td>\n",
       "      <td>NaN</td>\n",
       "      <td>NaN</td>\n",
       "      <td>NaN</td>\n",
       "      <td>NaN</td>\n",
       "      <td>NaN</td>\n",
       "      <td>NaN</td>\n",
       "      <td>NaN</td>\n",
       "      <td>NaN</td>\n",
       "      <td>N</td>\n",
       "      <td>NaN</td>\n",
       "    </tr>\n",
       "    <tr>\n",
       "      <th>2</th>\n",
       "      <td>PUMPKINS</td>\n",
       "      <td>SAN FRANCISCO</td>\n",
       "      <td>NaN</td>\n",
       "      <td>24 inch bins</td>\n",
       "      <td>HOWDEN TYPE</td>\n",
       "      <td>NaN</td>\n",
       "      <td>NaN</td>\n",
       "      <td>10/01/2016</td>\n",
       "      <td>155.0</td>\n",
       "      <td>155.0</td>\n",
       "      <td>155.0</td>\n",
       "      <td>155.0</td>\n",
       "      <td>CALIFORNIA</td>\n",
       "      <td>NaN</td>\n",
       "      <td>lge</td>\n",
       "      <td>NaN</td>\n",
       "      <td>NaN</td>\n",
       "      <td>NaN</td>\n",
       "      <td>NaN</td>\n",
       "      <td>NaN</td>\n",
       "      <td>NaN</td>\n",
       "      <td>NaN</td>\n",
       "      <td>NaN</td>\n",
       "      <td>N</td>\n",
       "      <td>NaN</td>\n",
       "    </tr>\n",
       "    <tr>\n",
       "      <th>3</th>\n",
       "      <td>PUMPKINS</td>\n",
       "      <td>SAN FRANCISCO</td>\n",
       "      <td>NaN</td>\n",
       "      <td>24 inch bins</td>\n",
       "      <td>HOWDEN TYPE</td>\n",
       "      <td>NaN</td>\n",
       "      <td>NaN</td>\n",
       "      <td>10/01/2016</td>\n",
       "      <td>135.0</td>\n",
       "      <td>135.0</td>\n",
       "      <td>135.0</td>\n",
       "      <td>135.0</td>\n",
       "      <td>CALIFORNIA</td>\n",
       "      <td>NaN</td>\n",
       "      <td>sml</td>\n",
       "      <td>NaN</td>\n",
       "      <td>NaN</td>\n",
       "      <td>NaN</td>\n",
       "      <td>NaN</td>\n",
       "      <td>NaN</td>\n",
       "      <td>NaN</td>\n",
       "      <td>NaN</td>\n",
       "      <td>NaN</td>\n",
       "      <td>N</td>\n",
       "      <td>NaN</td>\n",
       "    </tr>\n",
       "    <tr>\n",
       "      <th>4</th>\n",
       "      <td>PUMPKINS</td>\n",
       "      <td>SAN FRANCISCO</td>\n",
       "      <td>NaN</td>\n",
       "      <td>24 inch bins</td>\n",
       "      <td>HOWDEN TYPE</td>\n",
       "      <td>NaN</td>\n",
       "      <td>NaN</td>\n",
       "      <td>10/08/2016</td>\n",
       "      <td>135.0</td>\n",
       "      <td>150.0</td>\n",
       "      <td>135.0</td>\n",
       "      <td>150.0</td>\n",
       "      <td>CALIFORNIA</td>\n",
       "      <td>NaN</td>\n",
       "      <td>lge</td>\n",
       "      <td>NaN</td>\n",
       "      <td>NaN</td>\n",
       "      <td>NaN</td>\n",
       "      <td>NaN</td>\n",
       "      <td>NaN</td>\n",
       "      <td>NaN</td>\n",
       "      <td>NaN</td>\n",
       "      <td>NaN</td>\n",
       "      <td>N</td>\n",
       "      <td>NaN</td>\n",
       "    </tr>\n",
       "  </tbody>\n",
       "</table>\n",
       "</div>"
      ],
      "text/plain": [
       "  Commodity Name      City Name Type       Package      Variety Sub Variety  \\\n",
       "0       PUMPKINS  SAN FRANCISCO  NaN  24 inch bins  HOWDEN TYPE         NaN   \n",
       "1       PUMPKINS  SAN FRANCISCO  NaN  24 inch bins  HOWDEN TYPE         NaN   \n",
       "2       PUMPKINS  SAN FRANCISCO  NaN  24 inch bins  HOWDEN TYPE         NaN   \n",
       "3       PUMPKINS  SAN FRANCISCO  NaN  24 inch bins  HOWDEN TYPE         NaN   \n",
       "4       PUMPKINS  SAN FRANCISCO  NaN  24 inch bins  HOWDEN TYPE         NaN   \n",
       "\n",
       "   Grade        Date  Low Price  High Price  Mostly Low  Mostly High  \\\n",
       "0    NaN  09/24/2016      155.0       155.0       155.0        155.0   \n",
       "1    NaN  10/01/2016      155.0       155.0       155.0        155.0   \n",
       "2    NaN  10/01/2016      155.0       155.0       155.0        155.0   \n",
       "3    NaN  10/01/2016      135.0       135.0       135.0        135.0   \n",
       "4    NaN  10/08/2016      135.0       150.0       135.0        150.0   \n",
       "\n",
       "       Origin  Origin District Item Size Color  Environment  Unit of Sale  \\\n",
       "0  CALIFORNIA              NaN       NaN   NaN          NaN           NaN   \n",
       "1  CALIFORNIA              NaN       NaN   NaN          NaN           NaN   \n",
       "2  CALIFORNIA              NaN       lge   NaN          NaN           NaN   \n",
       "3  CALIFORNIA              NaN       sml   NaN          NaN           NaN   \n",
       "4  CALIFORNIA              NaN       lge   NaN          NaN           NaN   \n",
       "\n",
       "   Quality  Condition  Appearance  Storage  Crop Repack  Trans Mode  \n",
       "0      NaN        NaN         NaN      NaN   NaN      N         NaN  \n",
       "1      NaN        NaN         NaN      NaN   NaN      N         NaN  \n",
       "2      NaN        NaN         NaN      NaN   NaN      N         NaN  \n",
       "3      NaN        NaN         NaN      NaN   NaN      N         NaN  \n",
       "4      NaN        NaN         NaN      NaN   NaN      N         NaN  "
      ]
     },
     "execution_count": 90,
     "metadata": {},
     "output_type": "execute_result"
    }
   ],
   "source": [
    "data.head()"
   ]
  },
  {
   "cell_type": "code",
   "execution_count": 91,
   "id": "224ac9e3",
   "metadata": {
    "scrolled": true
   },
   "outputs": [
    {
     "name": "stdout",
     "output_type": "stream",
     "text": [
      "Commodity Name - 0%\n",
      "City Name - 0%\n",
      "Type - 78%\n",
      "Package - 0%\n",
      "Variety - 0%\n",
      "Sub Variety - 61%\n",
      "Grade - 100%\n",
      "Date - 0%\n",
      "Low Price - 0%\n",
      "High Price - 0%\n",
      "Mostly Low - 0%\n",
      "Mostly High - 0%\n",
      "Origin - 0%\n",
      "Origin District - 100%\n",
      "Item Size - 75%\n",
      "Color - 72%\n",
      "Environment - 100%\n",
      "Unit of Sale - 100%\n",
      "Quality - 100%\n",
      "Condition - 100%\n",
      "Appearance - 100%\n",
      "Storage - 100%\n",
      "Crop - 100%\n",
      "Repack - 0%\n",
      "Trans Mode - 100%\n"
     ]
    }
   ],
   "source": [
    "for col in data.columns:\n",
    "    pct_missing = np.mean(data[col].isnull())\n",
    "    print('{} - {}%'.format(col, round(pct_missing*100)))"
   ]
  },
  {
   "cell_type": "code",
   "execution_count": 92,
   "id": "bbc182d9",
   "metadata": {},
   "outputs": [
    {
     "name": "stdout",
     "output_type": "stream",
     "text": [
      "51.0 % Missing cells from the data\n"
     ]
    }
   ],
   "source": [
    "# Checking the overall percentage of missing data from the data set\n",
    "\n",
    "total_cells = np.product(data.shape)\n",
    "\n",
    "missing_cells = pd.isnull(data).sum()\n",
    "\n",
    "total_missing = missing_cells.sum()\n",
    "\n",
    "percentage_missing = round((total_missing/total_cells), 2) *100\n",
    "\n",
    "print(percentage_missing, \"% Missing cells from the data\")    "
   ]
  },
  {
   "cell_type": "markdown",
   "id": "e900b3e3",
   "metadata": {},
   "source": [
    "### Question 1: \n",
    "\n",
    "Look at the percentages of missing data per coluum.  There are quite a few columns with less than 100% of the data.  What do you want to do with each column?   Consider the following options for each and write down your thoughts in a box below this one.\n",
    "1. Drop the Observation\n",
    "1. Drop the Feature\n",
    "1. Impute the Missing Values\n",
    "1. Replace the Missing Values"
   ]
  },
  {
   "cell_type": "code",
   "execution_count": 93,
   "id": "9c80fb27",
   "metadata": {},
   "outputs": [],
   "source": [
    "# Answer Question 1 here:\n",
    "#In my observation i noticed that we can drop some of the columns in this data.\n",
    "#City Name: This analysis is focused on terminal markets in San Fransisco and Los Angeles,\n",
    "# knowing the specific city where the pumpkin was sold is not necessary.\n",
    "# Type: in this column it's type of farming for pumpkins its not relevant to analysis.\n",
    "# Sub Variety: This column is mostly null, it can be dropped.\n",
    "# Grade: This column is null, it can be dropped.\n",
    "# Mostly Low: duplicate data of Low Price.\n",
    "# Mostly High: duplicate data of High Price.\n",
    "# Orgin District: null\n",
    "# Item Size: Mostly null.\n",
    "# Color, Environment, Unit of Sale, Quality, Condition, Appearance, Storage, Crop & Trans Mode : Null.\n",
    "\n",
    "\n",
    "\n",
    "\n"
   ]
  },
  {
   "cell_type": "code",
   "execution_count": 94,
   "id": "7d744785",
   "metadata": {},
   "outputs": [
    {
     "name": "stdout",
     "output_type": "stream",
     "text": [
      "<class 'pandas.core.frame.DataFrame'>\n",
      "RangeIndex: 166 entries, 0 to 165\n",
      "Data columns (total 25 columns):\n",
      " #   Column           Non-Null Count  Dtype  \n",
      "---  ------           --------------  -----  \n",
      " 0   Commodity Name   166 non-null    object \n",
      " 1   City Name        166 non-null    object \n",
      " 2   Type             36 non-null     object \n",
      " 3   Package          166 non-null    object \n",
      " 4   Variety          166 non-null    object \n",
      " 5   Sub Variety      64 non-null     object \n",
      " 6   Grade            0 non-null      float64\n",
      " 7   Date             166 non-null    object \n",
      " 8   Low Price        166 non-null    float64\n",
      " 9   High Price       166 non-null    float64\n",
      " 10  Mostly Low       166 non-null    float64\n",
      " 11  Mostly High      166 non-null    float64\n",
      " 12  Origin           166 non-null    object \n",
      " 13  Origin District  0 non-null      float64\n",
      " 14  Item Size        41 non-null     object \n",
      " 15  Color            46 non-null     object \n",
      " 16  Environment      0 non-null      float64\n",
      " 17  Unit of Sale     0 non-null      float64\n",
      " 18  Quality          0 non-null      float64\n",
      " 19  Condition        0 non-null      float64\n",
      " 20  Appearance       0 non-null      float64\n",
      " 21  Storage          0 non-null      float64\n",
      " 22  Crop             0 non-null      float64\n",
      " 23  Repack           166 non-null    object \n",
      " 24  Trans Mode       0 non-null      float64\n",
      "dtypes: float64(14), object(11)\n",
      "memory usage: 32.5+ KB\n",
      "<class 'pandas.core.frame.DataFrame'>\n",
      "RangeIndex: 166 entries, 0 to 165\n",
      "Data columns (total 25 columns):\n",
      " #   Column           Non-Null Count  Dtype  \n",
      "---  ------           --------------  -----  \n",
      " 0   Commodity Name   166 non-null    object \n",
      " 1   City Name        166 non-null    object \n",
      " 2   Type             36 non-null     object \n",
      " 3   Package          166 non-null    object \n",
      " 4   Variety          166 non-null    object \n",
      " 5   Sub Variety      64 non-null     object \n",
      " 6   Grade            0 non-null      float64\n",
      " 7   Date             166 non-null    object \n",
      " 8   Low Price        166 non-null    float64\n",
      " 9   High Price       166 non-null    float64\n",
      " 10  Mostly Low       166 non-null    float64\n",
      " 11  Mostly High      166 non-null    float64\n",
      " 12  Origin           166 non-null    object \n",
      " 13  Origin District  0 non-null      float64\n",
      " 14  Item Size        41 non-null     object \n",
      " 15  Color            46 non-null     object \n",
      " 16  Environment      0 non-null      float64\n",
      " 17  Unit of Sale     0 non-null      float64\n",
      " 18  Quality          0 non-null      float64\n",
      " 19  Condition        0 non-null      float64\n",
      " 20  Appearance       0 non-null      float64\n",
      " 21  Storage          0 non-null      float64\n",
      " 22  Crop             0 non-null      float64\n",
      " 23  Repack           166 non-null    object \n",
      " 24  Trans Mode       0 non-null      float64\n",
      "dtypes: float64(14), object(11)\n",
      "memory usage: 32.5+ KB\n"
     ]
    },
    {
     "data": {
      "text/html": [
       "<div>\n",
       "<style scoped>\n",
       "    .dataframe tbody tr th:only-of-type {\n",
       "        vertical-align: middle;\n",
       "    }\n",
       "\n",
       "    .dataframe tbody tr th {\n",
       "        vertical-align: top;\n",
       "    }\n",
       "\n",
       "    .dataframe thead th {\n",
       "        text-align: right;\n",
       "    }\n",
       "</style>\n",
       "<table border=\"1\" class=\"dataframe\">\n",
       "  <thead>\n",
       "    <tr style=\"text-align: right;\">\n",
       "      <th></th>\n",
       "      <th>Commodity Name</th>\n",
       "      <th>City Name</th>\n",
       "      <th>Type</th>\n",
       "      <th>Package</th>\n",
       "      <th>Variety</th>\n",
       "      <th>Sub Variety</th>\n",
       "      <th>Grade</th>\n",
       "      <th>Date</th>\n",
       "      <th>Low Price</th>\n",
       "      <th>High Price</th>\n",
       "      <th>Mostly Low</th>\n",
       "      <th>Mostly High</th>\n",
       "      <th>Origin</th>\n",
       "      <th>Origin District</th>\n",
       "      <th>Item Size</th>\n",
       "      <th>Color</th>\n",
       "      <th>Environment</th>\n",
       "      <th>Unit of Sale</th>\n",
       "      <th>Quality</th>\n",
       "      <th>Condition</th>\n",
       "      <th>Appearance</th>\n",
       "      <th>Storage</th>\n",
       "      <th>Crop</th>\n",
       "      <th>Repack</th>\n",
       "      <th>Trans Mode</th>\n",
       "    </tr>\n",
       "  </thead>\n",
       "  <tbody>\n",
       "    <tr>\n",
       "      <th>0</th>\n",
       "      <td>PUMPKINS</td>\n",
       "      <td>SAN FRANCISCO</td>\n",
       "      <td>NaN</td>\n",
       "      <td>24 inch bins</td>\n",
       "      <td>HOWDEN TYPE</td>\n",
       "      <td>NaN</td>\n",
       "      <td>NaN</td>\n",
       "      <td>09/24/2016</td>\n",
       "      <td>155.0</td>\n",
       "      <td>155.0</td>\n",
       "      <td>155.0</td>\n",
       "      <td>155.0</td>\n",
       "      <td>CALIFORNIA</td>\n",
       "      <td>NaN</td>\n",
       "      <td>NaN</td>\n",
       "      <td>NaN</td>\n",
       "      <td>NaN</td>\n",
       "      <td>NaN</td>\n",
       "      <td>NaN</td>\n",
       "      <td>NaN</td>\n",
       "      <td>NaN</td>\n",
       "      <td>NaN</td>\n",
       "      <td>NaN</td>\n",
       "      <td>N</td>\n",
       "      <td>NaN</td>\n",
       "    </tr>\n",
       "    <tr>\n",
       "      <th>1</th>\n",
       "      <td>PUMPKINS</td>\n",
       "      <td>SAN FRANCISCO</td>\n",
       "      <td>NaN</td>\n",
       "      <td>24 inch bins</td>\n",
       "      <td>HOWDEN TYPE</td>\n",
       "      <td>NaN</td>\n",
       "      <td>NaN</td>\n",
       "      <td>10/01/2016</td>\n",
       "      <td>155.0</td>\n",
       "      <td>155.0</td>\n",
       "      <td>155.0</td>\n",
       "      <td>155.0</td>\n",
       "      <td>CALIFORNIA</td>\n",
       "      <td>NaN</td>\n",
       "      <td>NaN</td>\n",
       "      <td>NaN</td>\n",
       "      <td>NaN</td>\n",
       "      <td>NaN</td>\n",
       "      <td>NaN</td>\n",
       "      <td>NaN</td>\n",
       "      <td>NaN</td>\n",
       "      <td>NaN</td>\n",
       "      <td>NaN</td>\n",
       "      <td>N</td>\n",
       "      <td>NaN</td>\n",
       "    </tr>\n",
       "    <tr>\n",
       "      <th>2</th>\n",
       "      <td>PUMPKINS</td>\n",
       "      <td>SAN FRANCISCO</td>\n",
       "      <td>NaN</td>\n",
       "      <td>24 inch bins</td>\n",
       "      <td>HOWDEN TYPE</td>\n",
       "      <td>NaN</td>\n",
       "      <td>NaN</td>\n",
       "      <td>10/01/2016</td>\n",
       "      <td>155.0</td>\n",
       "      <td>155.0</td>\n",
       "      <td>155.0</td>\n",
       "      <td>155.0</td>\n",
       "      <td>CALIFORNIA</td>\n",
       "      <td>NaN</td>\n",
       "      <td>lge</td>\n",
       "      <td>NaN</td>\n",
       "      <td>NaN</td>\n",
       "      <td>NaN</td>\n",
       "      <td>NaN</td>\n",
       "      <td>NaN</td>\n",
       "      <td>NaN</td>\n",
       "      <td>NaN</td>\n",
       "      <td>NaN</td>\n",
       "      <td>N</td>\n",
       "      <td>NaN</td>\n",
       "    </tr>\n",
       "    <tr>\n",
       "      <th>3</th>\n",
       "      <td>PUMPKINS</td>\n",
       "      <td>SAN FRANCISCO</td>\n",
       "      <td>NaN</td>\n",
       "      <td>24 inch bins</td>\n",
       "      <td>HOWDEN TYPE</td>\n",
       "      <td>NaN</td>\n",
       "      <td>NaN</td>\n",
       "      <td>10/01/2016</td>\n",
       "      <td>135.0</td>\n",
       "      <td>135.0</td>\n",
       "      <td>135.0</td>\n",
       "      <td>135.0</td>\n",
       "      <td>CALIFORNIA</td>\n",
       "      <td>NaN</td>\n",
       "      <td>sml</td>\n",
       "      <td>NaN</td>\n",
       "      <td>NaN</td>\n",
       "      <td>NaN</td>\n",
       "      <td>NaN</td>\n",
       "      <td>NaN</td>\n",
       "      <td>NaN</td>\n",
       "      <td>NaN</td>\n",
       "      <td>NaN</td>\n",
       "      <td>N</td>\n",
       "      <td>NaN</td>\n",
       "    </tr>\n",
       "    <tr>\n",
       "      <th>4</th>\n",
       "      <td>PUMPKINS</td>\n",
       "      <td>SAN FRANCISCO</td>\n",
       "      <td>NaN</td>\n",
       "      <td>24 inch bins</td>\n",
       "      <td>HOWDEN TYPE</td>\n",
       "      <td>NaN</td>\n",
       "      <td>NaN</td>\n",
       "      <td>10/08/2016</td>\n",
       "      <td>135.0</td>\n",
       "      <td>150.0</td>\n",
       "      <td>135.0</td>\n",
       "      <td>150.0</td>\n",
       "      <td>CALIFORNIA</td>\n",
       "      <td>NaN</td>\n",
       "      <td>lge</td>\n",
       "      <td>NaN</td>\n",
       "      <td>NaN</td>\n",
       "      <td>NaN</td>\n",
       "      <td>NaN</td>\n",
       "      <td>NaN</td>\n",
       "      <td>NaN</td>\n",
       "      <td>NaN</td>\n",
       "      <td>NaN</td>\n",
       "      <td>N</td>\n",
       "      <td>NaN</td>\n",
       "    </tr>\n",
       "  </tbody>\n",
       "</table>\n",
       "</div>"
      ],
      "text/plain": [
       "  Commodity Name      City Name Type       Package      Variety Sub Variety  \\\n",
       "0       PUMPKINS  SAN FRANCISCO  NaN  24 inch bins  HOWDEN TYPE         NaN   \n",
       "1       PUMPKINS  SAN FRANCISCO  NaN  24 inch bins  HOWDEN TYPE         NaN   \n",
       "2       PUMPKINS  SAN FRANCISCO  NaN  24 inch bins  HOWDEN TYPE         NaN   \n",
       "3       PUMPKINS  SAN FRANCISCO  NaN  24 inch bins  HOWDEN TYPE         NaN   \n",
       "4       PUMPKINS  SAN FRANCISCO  NaN  24 inch bins  HOWDEN TYPE         NaN   \n",
       "\n",
       "   Grade        Date  Low Price  High Price  Mostly Low  Mostly High  \\\n",
       "0    NaN  09/24/2016      155.0       155.0       155.0        155.0   \n",
       "1    NaN  10/01/2016      155.0       155.0       155.0        155.0   \n",
       "2    NaN  10/01/2016      155.0       155.0       155.0        155.0   \n",
       "3    NaN  10/01/2016      135.0       135.0       135.0        135.0   \n",
       "4    NaN  10/08/2016      135.0       150.0       135.0        150.0   \n",
       "\n",
       "       Origin  Origin District Item Size Color  Environment  Unit of Sale  \\\n",
       "0  CALIFORNIA              NaN       NaN   NaN          NaN           NaN   \n",
       "1  CALIFORNIA              NaN       NaN   NaN          NaN           NaN   \n",
       "2  CALIFORNIA              NaN       lge   NaN          NaN           NaN   \n",
       "3  CALIFORNIA              NaN       sml   NaN          NaN           NaN   \n",
       "4  CALIFORNIA              NaN       lge   NaN          NaN           NaN   \n",
       "\n",
       "   Quality  Condition  Appearance  Storage  Crop Repack  Trans Mode  \n",
       "0      NaN        NaN         NaN      NaN   NaN      N         NaN  \n",
       "1      NaN        NaN         NaN      NaN   NaN      N         NaN  \n",
       "2      NaN        NaN         NaN      NaN   NaN      N         NaN  \n",
       "3      NaN        NaN         NaN      NaN   NaN      N         NaN  \n",
       "4      NaN        NaN         NaN      NaN   NaN      N         NaN  "
      ]
     },
     "execution_count": 94,
     "metadata": {},
     "output_type": "execute_result"
    }
   ],
   "source": [
    "df = pd.read_csv(\"san-fransisco_9-24-2016_9-30-2017.csv\")\n",
    "#Print out any information needed for the dataframe to understand\n",
    "df.info(verbose=True)\n",
    "df.info()\n",
    "pd.options.display.max_columns = 100\n",
    "df.head()"
   ]
  },
  {
   "cell_type": "code",
   "execution_count": 95,
   "id": "3b6d66f8",
   "metadata": {},
   "outputs": [
    {
     "name": "stdout",
     "output_type": "stream",
     "text": [
      "(166, 25)\n",
      "Commodity Name      object\n",
      "City Name           object\n",
      "Type                object\n",
      "Package             object\n",
      "Variety             object\n",
      "Sub Variety         object\n",
      "Grade              float64\n",
      "Date                object\n",
      "Low Price          float64\n",
      "High Price         float64\n",
      "Mostly Low         float64\n",
      "Mostly High        float64\n",
      "Origin              object\n",
      "Origin District    float64\n",
      "Item Size           object\n",
      "Color               object\n",
      "Environment        float64\n",
      "Unit of Sale       float64\n",
      "Quality            float64\n",
      "Condition          float64\n",
      "Appearance         float64\n",
      "Storage            float64\n",
      "Crop               float64\n",
      "Repack              object\n",
      "Trans Mode         float64\n",
      "dtype: object\n"
     ]
    }
   ],
   "source": [
    "# Print out any information you need to understand your dataframe\n",
    "print(df.shape)\n",
    "print(df.dtypes)"
   ]
  },
  {
   "cell_type": "code",
   "execution_count": 96,
   "id": "bf9496ae",
   "metadata": {},
   "outputs": [
    {
     "name": "stdout",
     "output_type": "stream",
     "text": [
      "Index(['Grade', 'Low Price', 'High Price', 'Mostly Low', 'Mostly High',\n",
      "       'Origin District', 'Environment', 'Unit of Sale', 'Quality',\n",
      "       'Condition', 'Appearance', 'Storage', 'Crop', 'Trans Mode'],\n",
      "      dtype='object')\n",
      "Index(['Commodity Name', 'City Name', 'Type', 'Package', 'Variety',\n",
      "       'Sub Variety', 'Date', 'Origin', 'Item Size', 'Color', 'Repack'],\n",
      "      dtype='object')\n"
     ]
    }
   ],
   "source": [
    "# select numeric columns\n",
    "numeric_cols = df.select_dtypes(include=['number']).columns\n",
    "print(numeric_cols)\n",
    "\n",
    "non_numeric_cols = df.select_dtypes(exclude=['number']).columns\n",
    "print(non_numeric_cols)"
   ]
  },
  {
   "cell_type": "code",
   "execution_count": 97,
   "id": "f521234e",
   "metadata": {},
   "outputs": [
    {
     "data": {
      "text/plain": [
       "<bound method DataFrame.info of     Commodity Name      City Name Type        Package      Variety  \\\n",
       "0         PUMPKINS  SAN FRANCISCO  NaN   24 inch bins  HOWDEN TYPE   \n",
       "1         PUMPKINS  SAN FRANCISCO  NaN   24 inch bins  HOWDEN TYPE   \n",
       "2         PUMPKINS  SAN FRANCISCO  NaN   24 inch bins  HOWDEN TYPE   \n",
       "3         PUMPKINS  SAN FRANCISCO  NaN   24 inch bins  HOWDEN TYPE   \n",
       "4         PUMPKINS  SAN FRANCISCO  NaN   24 inch bins  HOWDEN TYPE   \n",
       "..             ...            ...  ...            ...          ...   \n",
       "161       PUMPKINS  SAN FRANCISCO  NaN  40 lb cartons    MINIATURE   \n",
       "162       PUMPKINS  SAN FRANCISCO  NaN  40 lb cartons    MINIATURE   \n",
       "163       PUMPKINS  SAN FRANCISCO  NaN  40 lb cartons    MINIATURE   \n",
       "164       PUMPKINS  SAN FRANCISCO  NaN  40 lb cartons    MINIATURE   \n",
       "165       PUMPKINS  SAN FRANCISCO  NaN  40 lb cartons    MINIATURE   \n",
       "\n",
       "    Sub Variety        Date      Origin Item Size Color Repack  \n",
       "0           NaN  09/24/2016  CALIFORNIA       NaN   NaN      N  \n",
       "1           NaN  10/01/2016  CALIFORNIA       NaN   NaN      N  \n",
       "2           NaN  10/01/2016  CALIFORNIA       lge   NaN      N  \n",
       "3           NaN  10/01/2016  CALIFORNIA       sml   NaN      N  \n",
       "4           NaN  10/08/2016  CALIFORNIA       lge   NaN      N  \n",
       "..          ...         ...         ...       ...   ...    ...  \n",
       "161  ROUND TYPE  10/08/2016  CALIFORNIA       NaN   NaN      N  \n",
       "162  ROUND TYPE  10/15/2016  CALIFORNIA       NaN   NaN      N  \n",
       "163  ROUND TYPE  10/22/2016  CALIFORNIA       NaN   NaN      N  \n",
       "164  ROUND TYPE  10/29/2016  CALIFORNIA       NaN   NaN      N  \n",
       "165  ROUND TYPE  11/05/2016  CALIFORNIA       NaN   NaN      N  \n",
       "\n",
       "[166 rows x 11 columns]>"
      ]
     },
     "execution_count": 97,
     "metadata": {},
     "output_type": "execute_result"
    }
   ],
   "source": [
    "df[non_numeric_cols].info"
   ]
  },
  {
   "cell_type": "code",
   "execution_count": 98,
   "id": "19f8054b",
   "metadata": {},
   "outputs": [
    {
     "data": {
      "text/plain": [
       "Commodity Name      0\n",
       "City Name           0\n",
       "Type              130\n",
       "Package             0\n",
       "Variety             0\n",
       "Sub Variety       102\n",
       "Grade             166\n",
       "Date                0\n",
       "Low Price           0\n",
       "High Price          0\n",
       "dtype: int64"
      ]
     },
     "execution_count": 98,
     "metadata": {},
     "output_type": "execute_result"
    }
   ],
   "source": [
    "num_missing = df.isna().sum()\n",
    "num_missing[:10]"
   ]
  },
  {
   "cell_type": "code",
   "execution_count": 99,
   "id": "8b3a1514",
   "metadata": {},
   "outputs": [
    {
     "data": {
      "text/plain": [
       "Commodity Name    0.000000\n",
       "City Name         0.000000\n",
       "Type              0.783133\n",
       "Package           0.000000\n",
       "Variety           0.000000\n",
       "Sub Variety       0.614458\n",
       "Grade             1.000000\n",
       "Date              0.000000\n",
       "Low Price         0.000000\n",
       "High Price        0.000000\n",
       "dtype: float64"
      ]
     },
     "execution_count": 99,
     "metadata": {},
     "output_type": "execute_result"
    }
   ],
   "source": [
    "pct_missing = df.isna().mean()\n",
    "pct_missing[:10]"
   ]
  },
  {
   "cell_type": "code",
   "execution_count": 100,
   "id": "cf0808e7",
   "metadata": {},
   "outputs": [
    {
     "data": {
      "text/plain": [
       "<AxesSubplot:>"
      ]
     },
     "execution_count": 100,
     "metadata": {},
     "output_type": "execute_result"
    },
    {
     "data": {
      "image/png": "[encoded data removed]",
      "text/plain": [
       "<Figure size 1000x800 with 2 Axes>"
      ]
     },
     "metadata": {},
     "output_type": "display_data"
    }
   ],
   "source": [
    "# Plot a heatmap of any missing data\n",
    "plt.figure(figsize=(10,8))\n",
    "cols = df.columns\n",
    "colours = ['red', 'blue'] # specify colours: blue - missing. red - not missing\n",
    "sns.heatmap(df[cols].isna(), cmap=sns.color_palette(colours))"
   ]
  },
  {
   "cell_type": "code",
   "execution_count": 101,
   "id": "d6e687e3",
   "metadata": {},
   "outputs": [
    {
     "data": {
      "text/plain": [
       "Commodity Name       0.000000\n",
       "City Name            0.000000\n",
       "Type                78.313253\n",
       "Package              0.000000\n",
       "Variety              0.000000\n",
       "Sub Variety         61.445783\n",
       "Grade              100.000000\n",
       "Date                 0.000000\n",
       "Low Price            0.000000\n",
       "High Price           0.000000\n",
       "Mostly Low           0.000000\n",
       "Mostly High          0.000000\n",
       "Origin               0.000000\n",
       "Origin District    100.000000\n",
       "Item Size           75.301205\n",
       "Color               72.289157\n",
       "Environment        100.000000\n",
       "Unit of Sale       100.000000\n",
       "Quality            100.000000\n",
       "Condition          100.000000\n",
       "Appearance         100.000000\n",
       "Storage            100.000000\n",
       "Crop               100.000000\n",
       "Repack               0.000000\n",
       "Trans Mode         100.000000\n",
       "dtype: float64"
      ]
     },
     "execution_count": 101,
     "metadata": {},
     "output_type": "execute_result"
    }
   ],
   "source": [
    "# Try out a missing data percentage list! \n",
    "#% of missing\n",
    "\n",
    "missing_data_percents = df.isna().mean() * 100\n",
    "missing_data_percents"
   ]
  },
  {
   "cell_type": "code",
   "execution_count": 102,
   "id": "e8052bd6",
   "metadata": {},
   "outputs": [
    {
     "data": {
      "text/plain": [
       "<AxesSubplot:>"
      ]
     },
     "execution_count": 102,
     "metadata": {},
     "output_type": "execute_result"
    },
    {
     "data": {
      "image/png": "[encoded data removed]",
      "text/plain": [
       "<Figure size 640x480 with 1 Axes>"
      ]
     },
     "metadata": {},
     "output_type": "display_data"
    }
   ],
   "source": [
    "# Plot a missing data histogram\n",
    "missing_by_rows = df.isna().sum(axis='columns')\n",
    "missing_by_rows.hist(bins=10, edgecolor='red', linewidth=1)"
   ]
  },
  {
   "cell_type": "code",
   "execution_count": 103,
   "id": "da30dde7",
   "metadata": {},
   "outputs": [
    {
     "name": "stdout",
     "output_type": "stream",
     "text": [
      "Index(['Grade', 'Origin District', 'Environment', 'Unit of Sale', 'Quality',\n",
      "       'Condition', 'Appearance', 'Storage', 'Crop', 'Trans Mode'],\n",
      "      dtype='object')\n",
      "(166, 25)\n"
     ]
    },
    {
     "data": {
      "text/plain": [
       "RangeIndex(start=0, stop=166, step=1)"
      ]
     },
     "execution_count": 103,
     "metadata": {},
     "output_type": "execute_result"
    }
   ],
   "source": [
    "# Handle any missing data in your dataframe.\n",
    "#drop all the columns that have above 90% null values\n",
    "df_above_90_percent_null = df[df.columns[df.isna().mean() * 100 >= 90]]\n",
    "print(df_above_90_percent_null.columns)\n",
    "print(df.shape)\n",
    "df = df.drop(axis='columns', columns=df_above_90_percent_null)\n",
    "df.shape\n",
    "df.index"
   ]
  },
  {
   "cell_type": "code",
   "execution_count": 104,
   "id": "d77cb467",
   "metadata": {},
   "outputs": [
    {
     "name": "stdout",
     "output_type": "stream",
     "text": [
      "<class 'pandas.core.frame.DataFrame'>\n",
      "RangeIndex: 166 entries, 0 to 165\n",
      "Data columns (total 11 columns):\n",
      " #   Column          Non-Null Count  Dtype  \n",
      "---  ------          --------------  -----  \n",
      " 0   Commodity Name  166 non-null    object \n",
      " 1   City Name       166 non-null    object \n",
      " 2   Package         166 non-null    object \n",
      " 3   Variety         166 non-null    object \n",
      " 4   Date            166 non-null    object \n",
      " 5   Low Price       166 non-null    float64\n",
      " 6   High Price      166 non-null    float64\n",
      " 7   Mostly Low      166 non-null    float64\n",
      " 8   Mostly High     166 non-null    float64\n",
      " 9   Origin          166 non-null    object \n",
      " 10  Repack          166 non-null    object \n",
      "dtypes: float64(4), object(7)\n",
      "memory usage: 14.4+ KB\n",
      "None\n"
     ]
    }
   ],
   "source": [
    "#investigate 0% null of column\n",
    "df_zero_percent_null = df[df.columns[(df.isna().mean() * 100) == 0]]\n",
    "print(df_zero_percent_null.info())"
   ]
  },
  {
   "cell_type": "code",
   "execution_count": 105,
   "id": "e3cc22df",
   "metadata": {},
   "outputs": [
    {
     "name": "stdout",
     "output_type": "stream",
     "text": [
      "Commodity Name: 1\n",
      "City Name: 1\n",
      "Package: 9\n",
      "Variety: 8\n",
      "Date: 19\n",
      "Low Price: 37\n",
      "High Price: 37\n",
      "Mostly Low: 37\n",
      "Mostly High: 37\n",
      "Origin: 2\n",
      "Repack: 1\n"
     ]
    }
   ],
   "source": [
    "uni_columns = []\n",
    "for col in df_zero_percent_null:\n",
    "    print(f\"{col}: {len(df_zero_percent_null[col].unique())}\")\n",
    "    if len(df_zero_percent_null[col].unique()) ==1:\n",
    "        pass"
   ]
  },
  {
   "cell_type": "code",
   "execution_count": 106,
   "id": "c2965056",
   "metadata": {},
   "outputs": [
    {
     "data": {
      "text/html": [
       "<div>\n",
       "<style scoped>\n",
       "    .dataframe tbody tr th:only-of-type {\n",
       "        vertical-align: middle;\n",
       "    }\n",
       "\n",
       "    .dataframe tbody tr th {\n",
       "        vertical-align: top;\n",
       "    }\n",
       "\n",
       "    .dataframe thead th {\n",
       "        text-align: right;\n",
       "    }\n",
       "</style>\n",
       "<table border=\"1\" class=\"dataframe\">\n",
       "  <thead>\n",
       "    <tr style=\"text-align: right;\">\n",
       "      <th></th>\n",
       "      <th>Commodity Name</th>\n",
       "      <th>City Name</th>\n",
       "      <th>Type</th>\n",
       "      <th>Package</th>\n",
       "      <th>Variety</th>\n",
       "      <th>Sub Variety</th>\n",
       "      <th>Grade</th>\n",
       "      <th>Date</th>\n",
       "      <th>Low Price</th>\n",
       "      <th>High Price</th>\n",
       "      <th>Mostly Low</th>\n",
       "      <th>Mostly High</th>\n",
       "      <th>Origin</th>\n",
       "      <th>Origin District</th>\n",
       "      <th>Item Size</th>\n",
       "      <th>Color</th>\n",
       "      <th>Environment</th>\n",
       "      <th>Unit of Sale</th>\n",
       "      <th>Quality</th>\n",
       "      <th>Condition</th>\n",
       "      <th>Appearance</th>\n",
       "      <th>Storage</th>\n",
       "      <th>Crop</th>\n",
       "      <th>Repack</th>\n",
       "      <th>Trans Mode</th>\n",
       "    </tr>\n",
       "  </thead>\n",
       "  <tbody>\n",
       "    <tr>\n",
       "      <th>0</th>\n",
       "      <td>PUMPKINS</td>\n",
       "      <td>SAN FRANCISCO</td>\n",
       "      <td>NaN</td>\n",
       "      <td>24 inch bins</td>\n",
       "      <td>HOWDEN TYPE</td>\n",
       "      <td>NaN</td>\n",
       "      <td>NaN</td>\n",
       "      <td>09/24/2016</td>\n",
       "      <td>155.0</td>\n",
       "      <td>155.0</td>\n",
       "      <td>155.0</td>\n",
       "      <td>155.0</td>\n",
       "      <td>CALIFORNIA</td>\n",
       "      <td>NaN</td>\n",
       "      <td>NaN</td>\n",
       "      <td>NaN</td>\n",
       "      <td>NaN</td>\n",
       "      <td>NaN</td>\n",
       "      <td>NaN</td>\n",
       "      <td>NaN</td>\n",
       "      <td>NaN</td>\n",
       "      <td>NaN</td>\n",
       "      <td>NaN</td>\n",
       "      <td>False</td>\n",
       "      <td>NaN</td>\n",
       "    </tr>\n",
       "    <tr>\n",
       "      <th>1</th>\n",
       "      <td>PUMPKINS</td>\n",
       "      <td>SAN FRANCISCO</td>\n",
       "      <td>NaN</td>\n",
       "      <td>24 inch bins</td>\n",
       "      <td>HOWDEN TYPE</td>\n",
       "      <td>NaN</td>\n",
       "      <td>NaN</td>\n",
       "      <td>10/01/2016</td>\n",
       "      <td>155.0</td>\n",
       "      <td>155.0</td>\n",
       "      <td>155.0</td>\n",
       "      <td>155.0</td>\n",
       "      <td>CALIFORNIA</td>\n",
       "      <td>NaN</td>\n",
       "      <td>NaN</td>\n",
       "      <td>NaN</td>\n",
       "      <td>NaN</td>\n",
       "      <td>NaN</td>\n",
       "      <td>NaN</td>\n",
       "      <td>NaN</td>\n",
       "      <td>NaN</td>\n",
       "      <td>NaN</td>\n",
       "      <td>NaN</td>\n",
       "      <td>False</td>\n",
       "      <td>NaN</td>\n",
       "    </tr>\n",
       "    <tr>\n",
       "      <th>2</th>\n",
       "      <td>PUMPKINS</td>\n",
       "      <td>SAN FRANCISCO</td>\n",
       "      <td>NaN</td>\n",
       "      <td>24 inch bins</td>\n",
       "      <td>HOWDEN TYPE</td>\n",
       "      <td>NaN</td>\n",
       "      <td>NaN</td>\n",
       "      <td>10/01/2016</td>\n",
       "      <td>155.0</td>\n",
       "      <td>155.0</td>\n",
       "      <td>155.0</td>\n",
       "      <td>155.0</td>\n",
       "      <td>CALIFORNIA</td>\n",
       "      <td>NaN</td>\n",
       "      <td>lge</td>\n",
       "      <td>NaN</td>\n",
       "      <td>NaN</td>\n",
       "      <td>NaN</td>\n",
       "      <td>NaN</td>\n",
       "      <td>NaN</td>\n",
       "      <td>NaN</td>\n",
       "      <td>NaN</td>\n",
       "      <td>NaN</td>\n",
       "      <td>False</td>\n",
       "      <td>NaN</td>\n",
       "    </tr>\n",
       "  </tbody>\n",
       "</table>\n",
       "</div>"
      ],
      "text/plain": [
       "  Commodity Name      City Name Type       Package      Variety Sub Variety  \\\n",
       "0       PUMPKINS  SAN FRANCISCO  NaN  24 inch bins  HOWDEN TYPE         NaN   \n",
       "1       PUMPKINS  SAN FRANCISCO  NaN  24 inch bins  HOWDEN TYPE         NaN   \n",
       "2       PUMPKINS  SAN FRANCISCO  NaN  24 inch bins  HOWDEN TYPE         NaN   \n",
       "\n",
       "   Grade        Date  Low Price  High Price  Mostly Low  Mostly High  \\\n",
       "0    NaN  09/24/2016      155.0       155.0       155.0        155.0   \n",
       "1    NaN  10/01/2016      155.0       155.0       155.0        155.0   \n",
       "2    NaN  10/01/2016      155.0       155.0       155.0        155.0   \n",
       "\n",
       "       Origin  Origin District Item Size Color  Environment  Unit of Sale  \\\n",
       "0  CALIFORNIA              NaN       NaN   NaN          NaN           NaN   \n",
       "1  CALIFORNIA              NaN       NaN   NaN          NaN           NaN   \n",
       "2  CALIFORNIA              NaN       lge   NaN          NaN           NaN   \n",
       "\n",
       "   Quality  Condition  Appearance  Storage  Crop  Repack  Trans Mode  \n",
       "0      NaN        NaN         NaN      NaN   NaN   False         NaN  \n",
       "1      NaN        NaN         NaN      NaN   NaN   False         NaN  \n",
       "2      NaN        NaN         NaN      NaN   NaN   False         NaN  "
      ]
     },
     "execution_count": 106,
     "metadata": {},
     "output_type": "execute_result"
    }
   ],
   "source": [
    "# Repack Column\n",
    "data[\"Repack\"] = data[\"Repack\"].replace({\"N\":False})\n",
    "#Check status with a quick head check\n",
    "data.head(3)"
   ]
  },
  {
   "cell_type": "markdown",
   "id": "a8f08339",
   "metadata": {},
   "source": [
    "# Question 2:\n",
    "\n",
    "Look at the \"Type\" column.  This column contains two values, \"Organic\" and \"NaN\".  \n",
    "When it comes to food, food is either typically designated as \"Organic\" or \"Conventional\" based on farming practices.  \n",
    "\n",
    "Do you think we should update the \"NaN\" values to \"Conventional\"?  Why or Why not?"
   ]
  },
  {
   "cell_type": "code",
   "execution_count": 107,
   "id": "b5b7c63c",
   "metadata": {},
   "outputs": [
    {
     "data": {
      "text/plain": [
       "(166, 15)"
      ]
     },
     "execution_count": 107,
     "metadata": {},
     "output_type": "execute_result"
    }
   ],
   "source": [
    "# Answers Question 2:\n",
    "#When it comes to food we always prefer it to be organic but here in this analysis\n",
    "#it's focusing on selling in the market, but i may keep this column and filling the \n",
    "#missing values with Conventional because I'm not sure about it.\n",
    "\n",
    "df_less_missing_rows = df[missing_by_rows < 35].copy()\n",
    "df_less_missing_rows.shape # equivalent to df.dropna(axis='index', thresh=166-35+1).shape\n",
    "\n"
   ]
  },
  {
   "cell_type": "code",
   "execution_count": 108,
   "id": "9479f294",
   "metadata": {},
   "outputs": [
    {
     "name": "stdout",
     "output_type": "stream",
     "text": [
      "0      Conventional\n",
      "1      Conventional\n",
      "2      Conventional\n",
      "3      Conventional\n",
      "4      Conventional\n",
      "           ...     \n",
      "161    Conventional\n",
      "162    Conventional\n",
      "163    Conventional\n",
      "164    Conventional\n",
      "165    Conventional\n",
      "Name: Type, Length: 166, dtype: object\n"
     ]
    }
   ],
   "source": [
    "# Fill the Missing Values in the Type Column\n",
    "data[\"Type\"] = data[\"Type\"].fillna(\"Conventional\")\n",
    "print(data[\"Type\"])"
   ]
  },
  {
   "cell_type": "markdown",
   "id": "94b4c7ce",
   "metadata": {},
   "source": [
    "# Question 3\n",
    "\n",
    "Based on the information provided by our team, \"Grade\" is only applied to canned pumpkin.  \n",
    "These were all uncanned, whole pumpkins.  This column is irrelevant to the dataset.\n",
    "\n",
    "We are going to drop the column.  Do you agree with this choice?  Why or why not?"
   ]
  },
  {
   "cell_type": "code",
   "execution_count": 109,
   "id": "1302d998",
   "metadata": {},
   "outputs": [],
   "source": [
    "# Answer Question 3 here:\n",
    "#Yes, thsi column is all null values and we are not selling the canned pumpkins in the market."
   ]
  },
  {
   "cell_type": "code",
   "execution_count": 110,
   "id": "ddf0ab8f",
   "metadata": {
    "scrolled": true
   },
   "outputs": [
    {
     "name": "stdout",
     "output_type": "stream",
     "text": [
      "    Commodity Name      City Name          Type        Package      Variety  \\\n",
      "0         PUMPKINS  SAN FRANCISCO  Conventional   24 inch bins  HOWDEN TYPE   \n",
      "1         PUMPKINS  SAN FRANCISCO  Conventional   24 inch bins  HOWDEN TYPE   \n",
      "2         PUMPKINS  SAN FRANCISCO  Conventional   24 inch bins  HOWDEN TYPE   \n",
      "3         PUMPKINS  SAN FRANCISCO  Conventional   24 inch bins  HOWDEN TYPE   \n",
      "4         PUMPKINS  SAN FRANCISCO  Conventional   24 inch bins  HOWDEN TYPE   \n",
      "..             ...            ...           ...            ...          ...   \n",
      "161       PUMPKINS  SAN FRANCISCO  Conventional  40 lb cartons    MINIATURE   \n",
      "162       PUMPKINS  SAN FRANCISCO  Conventional  40 lb cartons    MINIATURE   \n",
      "163       PUMPKINS  SAN FRANCISCO  Conventional  40 lb cartons    MINIATURE   \n",
      "164       PUMPKINS  SAN FRANCISCO  Conventional  40 lb cartons    MINIATURE   \n",
      "165       PUMPKINS  SAN FRANCISCO  Conventional  40 lb cartons    MINIATURE   \n",
      "\n",
      "    Sub Variety        Date  Low Price  High Price  Mostly Low  Mostly High  \\\n",
      "0           NaN  09/24/2016      155.0       155.0       155.0        155.0   \n",
      "1           NaN  10/01/2016      155.0       155.0       155.0        155.0   \n",
      "2           NaN  10/01/2016      155.0       155.0       155.0        155.0   \n",
      "3           NaN  10/01/2016      135.0       135.0       135.0        135.0   \n",
      "4           NaN  10/08/2016      135.0       150.0       135.0        150.0   \n",
      "..          ...         ...        ...         ...         ...          ...   \n",
      "161  ROUND TYPE  10/08/2016       30.0        35.0        30.0         35.0   \n",
      "162  ROUND TYPE  10/15/2016       30.0        35.0        30.0         35.0   \n",
      "163  ROUND TYPE  10/22/2016       30.0        35.0        30.0         35.0   \n",
      "164  ROUND TYPE  10/29/2016       30.0        30.0        30.0         30.0   \n",
      "165  ROUND TYPE  11/05/2016       30.0        30.0        30.0         30.0   \n",
      "\n",
      "         Origin  Origin District Item Size Color  Environment  Unit of Sale  \\\n",
      "0    CALIFORNIA              NaN       NaN   NaN          NaN           NaN   \n",
      "1    CALIFORNIA              NaN       NaN   NaN          NaN           NaN   \n",
      "2    CALIFORNIA              NaN       lge   NaN          NaN           NaN   \n",
      "3    CALIFORNIA              NaN       sml   NaN          NaN           NaN   \n",
      "4    CALIFORNIA              NaN       lge   NaN          NaN           NaN   \n",
      "..          ...              ...       ...   ...          ...           ...   \n",
      "161  CALIFORNIA              NaN       NaN   NaN          NaN           NaN   \n",
      "162  CALIFORNIA              NaN       NaN   NaN          NaN           NaN   \n",
      "163  CALIFORNIA              NaN       NaN   NaN          NaN           NaN   \n",
      "164  CALIFORNIA              NaN       NaN   NaN          NaN           NaN   \n",
      "165  CALIFORNIA              NaN       NaN   NaN          NaN           NaN   \n",
      "\n",
      "     Quality  Condition  Appearance  Storage  Crop  Repack  Trans Mode  \n",
      "0        NaN        NaN         NaN      NaN   NaN   False         NaN  \n",
      "1        NaN        NaN         NaN      NaN   NaN   False         NaN  \n",
      "2        NaN        NaN         NaN      NaN   NaN   False         NaN  \n",
      "3        NaN        NaN         NaN      NaN   NaN   False         NaN  \n",
      "4        NaN        NaN         NaN      NaN   NaN   False         NaN  \n",
      "..       ...        ...         ...      ...   ...     ...         ...  \n",
      "161      NaN        NaN         NaN      NaN   NaN   False         NaN  \n",
      "162      NaN        NaN         NaN      NaN   NaN   False         NaN  \n",
      "163      NaN        NaN         NaN      NaN   NaN   False         NaN  \n",
      "164      NaN        NaN         NaN      NaN   NaN   False         NaN  \n",
      "165      NaN        NaN         NaN      NaN   NaN   False         NaN  \n",
      "\n",
      "[166 rows x 24 columns]\n"
     ]
    }
   ],
   "source": [
    "# Grade Column \n",
    "data = data.drop([\"Grade\"], axis=1)\n",
    "print(data)"
   ]
  },
  {
   "cell_type": "code",
   "execution_count": 118,
   "id": "98cf1bf8",
   "metadata": {},
   "outputs": [
    {
     "data": {
      "text/html": [
       "<div>\n",
       "<style scoped>\n",
       "    .dataframe tbody tr th:only-of-type {\n",
       "        vertical-align: middle;\n",
       "    }\n",
       "\n",
       "    .dataframe tbody tr th {\n",
       "        vertical-align: top;\n",
       "    }\n",
       "\n",
       "    .dataframe thead th {\n",
       "        text-align: right;\n",
       "    }\n",
       "</style>\n",
       "<table border=\"1\" class=\"dataframe\">\n",
       "  <thead>\n",
       "    <tr style=\"text-align: right;\">\n",
       "      <th></th>\n",
       "      <th>Commodity Name</th>\n",
       "      <th>City Name</th>\n",
       "      <th>Type</th>\n",
       "      <th>Package</th>\n",
       "      <th>Variety</th>\n",
       "      <th>Sub Variety</th>\n",
       "      <th>Date</th>\n",
       "      <th>Low Price</th>\n",
       "      <th>High Price</th>\n",
       "      <th>Mostly Low</th>\n",
       "      <th>Mostly High</th>\n",
       "      <th>Origin</th>\n",
       "      <th>Item Size</th>\n",
       "      <th>Color</th>\n",
       "      <th>Repack</th>\n",
       "    </tr>\n",
       "  </thead>\n",
       "  <tbody>\n",
       "    <tr>\n",
       "      <th>0</th>\n",
       "      <td>PUMPKINS</td>\n",
       "      <td>SAN FRANCISCO</td>\n",
       "      <td>NaN</td>\n",
       "      <td>24 inch bins</td>\n",
       "      <td>HOWDEN TYPE</td>\n",
       "      <td>NaN</td>\n",
       "      <td>09/24/2016</td>\n",
       "      <td>155.0</td>\n",
       "      <td>155.0</td>\n",
       "      <td>155.0</td>\n",
       "      <td>155.0</td>\n",
       "      <td>CALIFORNIA</td>\n",
       "      <td>NaN</td>\n",
       "      <td>NaN</td>\n",
       "      <td>N</td>\n",
       "    </tr>\n",
       "    <tr>\n",
       "      <th>1</th>\n",
       "      <td>PUMPKINS</td>\n",
       "      <td>SAN FRANCISCO</td>\n",
       "      <td>NaN</td>\n",
       "      <td>24 inch bins</td>\n",
       "      <td>HOWDEN TYPE</td>\n",
       "      <td>NaN</td>\n",
       "      <td>10/01/2016</td>\n",
       "      <td>155.0</td>\n",
       "      <td>155.0</td>\n",
       "      <td>155.0</td>\n",
       "      <td>155.0</td>\n",
       "      <td>CALIFORNIA</td>\n",
       "      <td>NaN</td>\n",
       "      <td>NaN</td>\n",
       "      <td>N</td>\n",
       "    </tr>\n",
       "    <tr>\n",
       "      <th>2</th>\n",
       "      <td>PUMPKINS</td>\n",
       "      <td>SAN FRANCISCO</td>\n",
       "      <td>NaN</td>\n",
       "      <td>24 inch bins</td>\n",
       "      <td>HOWDEN TYPE</td>\n",
       "      <td>NaN</td>\n",
       "      <td>10/01/2016</td>\n",
       "      <td>155.0</td>\n",
       "      <td>155.0</td>\n",
       "      <td>155.0</td>\n",
       "      <td>155.0</td>\n",
       "      <td>CALIFORNIA</td>\n",
       "      <td>lge</td>\n",
       "      <td>NaN</td>\n",
       "      <td>N</td>\n",
       "    </tr>\n",
       "    <tr>\n",
       "      <th>3</th>\n",
       "      <td>PUMPKINS</td>\n",
       "      <td>SAN FRANCISCO</td>\n",
       "      <td>NaN</td>\n",
       "      <td>24 inch bins</td>\n",
       "      <td>HOWDEN TYPE</td>\n",
       "      <td>NaN</td>\n",
       "      <td>10/01/2016</td>\n",
       "      <td>135.0</td>\n",
       "      <td>135.0</td>\n",
       "      <td>135.0</td>\n",
       "      <td>135.0</td>\n",
       "      <td>CALIFORNIA</td>\n",
       "      <td>sml</td>\n",
       "      <td>NaN</td>\n",
       "      <td>N</td>\n",
       "    </tr>\n",
       "    <tr>\n",
       "      <th>4</th>\n",
       "      <td>PUMPKINS</td>\n",
       "      <td>SAN FRANCISCO</td>\n",
       "      <td>NaN</td>\n",
       "      <td>24 inch bins</td>\n",
       "      <td>HOWDEN TYPE</td>\n",
       "      <td>NaN</td>\n",
       "      <td>10/08/2016</td>\n",
       "      <td>135.0</td>\n",
       "      <td>150.0</td>\n",
       "      <td>135.0</td>\n",
       "      <td>150.0</td>\n",
       "      <td>CALIFORNIA</td>\n",
       "      <td>lge</td>\n",
       "      <td>NaN</td>\n",
       "      <td>N</td>\n",
       "    </tr>\n",
       "  </tbody>\n",
       "</table>\n",
       "</div>"
      ],
      "text/plain": [
       "  Commodity Name      City Name Type       Package      Variety Sub Variety  \\\n",
       "0       PUMPKINS  SAN FRANCISCO  NaN  24 inch bins  HOWDEN TYPE         NaN   \n",
       "1       PUMPKINS  SAN FRANCISCO  NaN  24 inch bins  HOWDEN TYPE         NaN   \n",
       "2       PUMPKINS  SAN FRANCISCO  NaN  24 inch bins  HOWDEN TYPE         NaN   \n",
       "3       PUMPKINS  SAN FRANCISCO  NaN  24 inch bins  HOWDEN TYPE         NaN   \n",
       "4       PUMPKINS  SAN FRANCISCO  NaN  24 inch bins  HOWDEN TYPE         NaN   \n",
       "\n",
       "         Date  Low Price  High Price  Mostly Low  Mostly High      Origin  \\\n",
       "0  09/24/2016      155.0       155.0       155.0        155.0  CALIFORNIA   \n",
       "1  10/01/2016      155.0       155.0       155.0        155.0  CALIFORNIA   \n",
       "2  10/01/2016      155.0       155.0       155.0        155.0  CALIFORNIA   \n",
       "3  10/01/2016      135.0       135.0       135.0        135.0  CALIFORNIA   \n",
       "4  10/08/2016      135.0       150.0       135.0        150.0  CALIFORNIA   \n",
       "\n",
       "  Item Size Color Repack  \n",
       "0       NaN   NaN      N  \n",
       "1       NaN   NaN      N  \n",
       "2       lge   NaN      N  \n",
       "3       sml   NaN      N  \n",
       "4       lge   NaN      N  "
      ]
     },
     "execution_count": 118,
     "metadata": {},
     "output_type": "execute_result"
    }
   ],
   "source": [
    "df.head()"
   ]
  },
  {
   "cell_type": "code",
   "execution_count": 111,
   "id": "67e812d5",
   "metadata": {},
   "outputs": [
    {
     "data": {
      "text/plain": [
       "(166, 24)"
      ]
     },
     "execution_count": 111,
     "metadata": {},
     "output_type": "execute_result"
    }
   ],
   "source": [
    "#Check with shape\n",
    "data.shape"
   ]
  },
  {
   "cell_type": "code",
   "execution_count": 120,
   "id": "62a7e0b1",
   "metadata": {},
   "outputs": [
    {
     "data": {
      "text/plain": [
       "array([[<AxesSubplot:title={'center':'Low Price'}>,\n",
       "        <AxesSubplot:title={'center':'High Price'}>],\n",
       "       [<AxesSubplot:title={'center':'Mostly Low'}>,\n",
       "        <AxesSubplot:title={'center':'Mostly High'}>]], dtype=object)"
      ]
     },
     "execution_count": 120,
     "metadata": {},
     "output_type": "execute_result"
    },
    {
     "data": {
      "image/png": "[encoded data removed]",
      "text/plain": [
       "<Figure size 640x480 with 4 Axes>"
      ]
     },
     "metadata": {},
     "output_type": "display_data"
    }
   ],
   "source": [
    "#Finding Outliers\n",
    "#Plot a Histogram\n",
    "df.hist(bins=100)"
   ]
  },
  {
   "cell_type": "markdown",
   "id": "711bedbe",
   "metadata": {},
   "source": [
    "# Question 4\n",
    "\n",
    "Decide which columns are relevant and irrelevant as a group.\n",
    "\n",
    "Do you think any of the columns empty for a reason?  What reason do you think? \n",
    "Is this intentional or unintentional?  \n",
    "What do you think?"
   ]
  },
  {
   "cell_type": "code",
   "execution_count": 112,
   "id": "3236839d",
   "metadata": {},
   "outputs": [],
   "source": [
    "# Explain your rationale breifly here: \n"
   ]
  },
  {
   "cell_type": "code",
   "execution_count": 113,
   "id": "ea0df42f",
   "metadata": {},
   "outputs": [],
   "source": [
    "# Drop the ones you decide are irrelevant using the code we used to drop the \"Grade Column\""
   ]
  },
  {
   "cell_type": "markdown",
   "id": "66ac7337",
   "metadata": {},
   "source": [
    "# Question 5:\n",
    "\n",
    "Plot the outliers for them.\n",
    "histogram of date vs. sales\n",
    "\n",
    "\n",
    "What do you think about the dates?  "
   ]
  },
  {
   "cell_type": "code",
   "execution_count": 114,
   "id": "04a97f78",
   "metadata": {},
   "outputs": [],
   "source": [
    "# Answer 5 here:\n",
    "\n"
   ]
  },
  {
   "cell_type": "code",
   "execution_count": 115,
   "id": "11aa94a9",
   "metadata": {},
   "outputs": [
    {
     "data": {
      "text/plain": [
       "<AxesSubplot:>"
      ]
     },
     "execution_count": 115,
     "metadata": {},
     "output_type": "execute_result"
    },
    {
     "data": {
      "image/png": "[encoded data removed]",
      "text/plain": [
       "<Figure size 640x480 with 1 Axes>"
      ]
     },
     "metadata": {},
     "output_type": "display_data"
    }
   ],
   "source": [
    "# # bar chart -  distribution of a categorical variable\n",
    "data['Date'].value_counts().plot.bar()"
   ]
  },
  {
   "cell_type": "code",
   "execution_count": 116,
   "id": "77d6e9a9",
   "metadata": {},
   "outputs": [
    {
     "data": {
      "text/plain": [
       "([0, 1, 2, 3, 4, 5, 6, 7, 8, 9, 10, 11, 12, 13, 14, 15, 16, 17, 18],\n",
       " [Text(0, 0, ''),\n",
       "  Text(0, 0, ''),\n",
       "  Text(0, 0, ''),\n",
       "  Text(0, 0, ''),\n",
       "  Text(0, 0, ''),\n",
       "  Text(0, 0, ''),\n",
       "  Text(0, 0, ''),\n",
       "  Text(0, 0, ''),\n",
       "  Text(0, 0, ''),\n",
       "  Text(0, 0, ''),\n",
       "  Text(0, 0, ''),\n",
       "  Text(0, 0, ''),\n",
       "  Text(0, 0, ''),\n",
       "  Text(0, 0, ''),\n",
       "  Text(0, 0, ''),\n",
       "  Text(0, 0, ''),\n",
       "  Text(0, 0, ''),\n",
       "  Text(0, 0, ''),\n",
       "  Text(0, 0, '')])"
      ]
     },
     "execution_count": 116,
     "metadata": {},
     "output_type": "execute_result"
    },
    {
     "data": {
      "image/png": "[encoded data removed]",
      "text/plain": [
       "<Figure size 640x480 with 1 Axes>"
      ]
     },
     "metadata": {},
     "output_type": "display_data"
    }
   ],
   "source": [
    "# # histogram of dates.\n",
    "data['Date'].hist(bins=100)\n",
    "plt.xticks(rotation=90)\n",
    "\n",
    "#ignore the lists above the histogram for right now.  Examine the histogram."
   ]
  },
  {
   "cell_type": "markdown",
   "id": "dde3d3bf",
   "metadata": {},
   "source": [
    "# Question 6:\n",
    "\n",
    "Are there any points in this data set that you worry about inconsistencies? \n",
    "Where?  What would you want to check?  Why?"
   ]
  },
  {
   "cell_type": "code",
   "execution_count": 117,
   "id": "e76d67dd",
   "metadata": {},
   "outputs": [],
   "source": [
    "# Answer Question 6 here: \n",
    "\n"
   ]
  },
  {
   "cell_type": "markdown",
   "id": "91b4f663",
   "metadata": {},
   "source": [
    "# Bonus Mission\n",
    "\n",
    "Fix the LA page at this link: [A Year of Pumpkin Prices](https://www.kaggle.com/usda/a-year-of-pumpkin-prices)"
   ]
  },
  {
   "cell_type": "code",
   "execution_count": null,
   "id": "40f72977",
   "metadata": {},
   "outputs": [],
   "source": []
  }
 ],
 "metadata": {
  "kernelspec": {
   "display_name": "Python 3 (ipykernel)",
   "language": "python",
   "name": "python3"
  },
  "language_info": {
   "codemirror_mode": {
    "name": "ipython",
    "version": 3
   },
   "file_extension": ".py",
   "mimetype": "text/x-python",
   "name": "python",
   "nbconvert_exporter": "python",
   "pygments_lexer": "ipython3",
   "version": "3.9.13"
  }
 },
 "nbformat": 4,
 "nbformat_minor": 5
}
